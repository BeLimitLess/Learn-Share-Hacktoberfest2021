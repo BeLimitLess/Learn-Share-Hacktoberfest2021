{
  "nbformat": 4,
  "nbformat_minor": 0,
  "metadata": {
    "colab": {
      "name": "Untitled68.ipynb",
      "provenance": [],
      "collapsed_sections": []
    },
    "kernelspec": {
      "display_name": "Python 3",
      "name": "python3"
    },
    "language_info": {
      "name": "python"
    }
  },
  "cells": [
    {
      "cell_type": "markdown",
      "metadata": {
        "id": "aiM6JQnaCysL"
      },
      "source": [
        "c++ program to find the area and permeter of triangle "
      ]
    },
    {
      "cell_type": "code",
      "metadata": {
        "id": "jzO9YlbrWTn_"
      },
      "source": [
        "// importing the libraries\n",
        "#include<iostream>\n",
        "#include<stdlib.h>\n",
        "#include<math.h>\n",
        "using namespace std;\n",
        "// function declaration for area\n",
        "void areaOfTraiangle(float a, float b, float c, float &A, float &P);\n",
        "// initializing the main method\n",
        "int main(){\n",
        "    // local variables\n",
        "    float side1, side2, side3;\n",
        "    float area, perimeter;\n",
        "    cout<<\"Please provide the lengths of the edges of a triangle:\\n \";\n",
        "    // getting inputs from user\n",
        "    cin>>side1>>side2>>side3;\n",
        "    // checking if the user entered values\n",
        "    // can make a traingle or not\n",
        "    if(side1+side2>side3 &&  side1+side3>side2 && side2+side3>side1){\n",
        "        // function calling\n",
        "        areaOfTraiangle(side1, side2, side3, area, perimeter);\n",
        "        // displaying the result\n",
        "        cout<<\"Area of triangle = \"<<area<<endl;\n",
        "        cout<<\"Perimeter of triangle = \"<<perimeter<<endl;\n",
        "    }else{\n",
        "        cout<<\"The input values cannot form a triangle. Bye!! \"<<endl;\n",
        "\n",
        "    }\n",
        "    return 0;\n",
        "}\n",
        "\n",
        "// function definition\n",
        "void areaOfTraiangle(float side1, float side2, float side3,float &area,float &perimeter){\n",
        "    float semiPeremeter;\n",
        "    // calculating the perimeter\n",
        "    perimeter = side1+side2+side3;\n",
        "    // calculating semiperemeter\n",
        "    semiPeremeter = (side1+side2+side3)/2;\n",
        "    // calculating area of traiangle\n",
        "    area = sqrt(semiPeremeter*(semiPeremeter-side1)*(semiPeremeter-side2)*(semiPeremeter-side3));\n",
        "    return;\n",
        "}\n",
        "\n"
      ],
      "execution_count": null,
      "outputs": []
    }
  ]
}