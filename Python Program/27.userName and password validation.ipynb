{
  "nbformat": 4,
  "nbformat_minor": 0,
  "metadata": {
    "colab": {
      "name": "Untitled68.ipynb",
      "provenance": [],
      "collapsed_sections": []
    },
    "kernelspec": {
      "display_name": "Python 3",
      "name": "python3"
    },
    "language_info": {
      "name": "python"
    }
  },
  "cells": [
    {
      "cell_type": "markdown",
      "metadata": {
        "id": "iLzkMED4cvHl"
      },
      "source": [
        "## **Password generator**"
      ]
    },
    {
      "cell_type": "code",
      "metadata": {
        "id": "rT-G6i0JcYVR",
        "colab": {
          "base_uri": "https://localhost:8080/"
        },
        "outputId": "6a02693d-7b6d-4f5a-fb36-c0d3bb05c0eb"
      },
      "source": [
        "# importing the libraries\n",
        "import string\n",
        "# declaring the local variables\n",
        "lc_letters = list(string.ascii_lowercase)\n",
        "uc_letters = list(string.ascii_uppercase)\n",
        "# define function for userName\n",
        "def userNameCheck(username):\n",
        "    # list to store user names\n",
        "    # if you want to add predefined users, you can add here\n",
        "    usersList = []\n",
        "    # checking for user name and length \n",
        "    if username not in usersList and len(username) >= 6:\n",
        "        # appending user name to the list\n",
        "        usersList.append(username)\n",
        "        return True\n",
        "    #else return false\n",
        "    else:\n",
        "        return False\n",
        "# defining function for password validation\n",
        "def passwordValidCheck(password):\n",
        "    # declaring special characters\n",
        "    characters = ['$','#','@','&','*','!']\n",
        "    # checking the password length \n",
        "    if len(password)>=6 and len(password)<=16:\n",
        "        for i in range(len(password)):\n",
        "            # return true if password is valid\n",
        "            if password[i] in lc_letters or password[i] in uc_letters or password[i].isdigit or password[i] in characters:\n",
        "                return True\n",
        "    else:\n",
        "        return False\n",
        "if __name__ == \"__main__\":\n",
        "    # local variables flag\n",
        "    f1 = False\n",
        "    f2 = False\n",
        "    # creating a menu driven \n",
        "    for _ in iter(int,1):\n",
        "        # asking user name \n",
        "        userName = input(\"Enter the username: \")\n",
        "        # checking the username is valid or not\n",
        "        if userNameCheck(userName):\n",
        "            # true if it is value\n",
        "            f1 = True\n",
        "            break\n",
        "        # ask for username again\n",
        "        else:\n",
        "            print(\"Please enter the username again.\")\n",
        "    # creating a menu driven \n",
        "    for _ in iter(int,1):\n",
        "        # asking the user for passWord\n",
        "        passWord = input(\"Enter the password: \")\n",
        "        # checking whether password is valid or not\n",
        "        if passwordValidCheck(passWord):\n",
        "            # true if it is valid\n",
        "            f2 = True\n",
        "            break\n",
        "        else:\n",
        "            print(\"Please enter the password again.\")\n",
        "    # if username and password are valid,\n",
        "    # displaying the message.\n",
        "    if f1 and f2:\n",
        "        print(\"Login Successfull!\")\n"
      ],
      "execution_count": 3,
      "outputs": [
        {
          "output_type": "stream",
          "name": "stdout",
          "text": [
            "Enter the username: kingii123\n",
            "Enter the password: asdf\n",
            "Please enter the password again.\n",
            "Enter the password: Akhil@123\n",
            "Login Successfull!\n"
          ]
        }
      ]
    },
    {
      "cell_type": "code",
      "metadata": {
        "id": "QCOFBdC3Ywto"
      },
      "source": [
        "asa"
      ],
      "execution_count": null,
      "outputs": []
    }
  ]
}