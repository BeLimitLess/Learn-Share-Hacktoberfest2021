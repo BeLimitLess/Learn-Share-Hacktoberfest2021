{
 "cells": [
  {
   "cell_type": "code",
   "execution_count": null,
   "id": "902aa3e8",
   "metadata": {},
   "outputs": [],
   "source": [
    "Find Minimum in Rotated Sorted Array\n",
    "Suppose an array of length n sorted in ascending order is rotated between 1 and n times. For example, the array nums = [0,1,2,4,5,6,7] might become:\n",
    "\n",
    "[4,5,6,7,0,1,2] if it was rotated 4 times.\n",
    "[0,1,2,4,5,6,7] if it was rotated 7 times.\n",
    "Notice that rotating an array [a[0], a[1], a[2], ..., a[n-1]] 1 time results in the array [a[n-1], a[0], a[1], a[2], ..., a[n-2]]."
   ]
  },
  {
   "cell_type": "code",
   "execution_count": null,
   "id": "2ca4ddd8",
   "metadata": {},
   "outputs": [],
   "source": [
    "The java program to find minimum in this array:"
   ]
  },
  {
   "cell_type": "code",
   "execution_count": null,
   "id": "53f1775a",
   "metadata": {},
   "outputs": [],
   "source": [
    "import java.util.*;\n",
    "\n",
    "public class minRotatedSortedArray {\n",
    " \n",
    "    public static void main(String[] args) {\n",
    "        int[] arr = {4,5,6,7,0,1,2};\n",
    "        System.out.print(findMin(arr));\n",
    "    }\n",
    "    public int findMin(int[] nums) {\n",
    "        int n = nums.length;\n",
    "        if(n==1)\n",
    "            return nums[0];\n",
    "        if(nums[0]<nums[1] && nums[0]<nums[n-1])\n",
    "            return nums[0];\n",
    "        if(nums[n-1]<nums[n-2] && nums[n-1]<nums[0])\n",
    "            return nums[n-1];\n",
    "        int low = 0,high = n-1;\n",
    "        while(low<high)\n",
    "        {\n",
    "            int mid = (low+high+1)/2;\n",
    "            if(nums[mid]<nums[mid-1] && nums[mid]<nums[mid+1])\n",
    "                return nums[mid];\n",
    "            if(nums[mid]>nums[0])\n",
    "                low = mid+1;\n",
    "            if(nums[mid]<nums[0])\n",
    "                high = mid-1;\n",
    "                \n",
    "        }\n",
    "        return nums[low];\n",
    "            \n",
    "    }\n",
    "}"
   ]
  }
 ],
 "metadata": {
  "kernelspec": {
   "display_name": "Python 3",
   "language": "python",
   "name": "python3"
  },
  "language_info": {
   "codemirror_mode": {
    "name": "ipython",
    "version": 3
   },
   "file_extension": ".py",
   "mimetype": "text/x-python",
   "name": "python",
   "nbconvert_exporter": "python",
   "pygments_lexer": "ipython3",
   "version": "3.8.8"
  }
 },
 "nbformat": 4,
 "nbformat_minor": 5
}
