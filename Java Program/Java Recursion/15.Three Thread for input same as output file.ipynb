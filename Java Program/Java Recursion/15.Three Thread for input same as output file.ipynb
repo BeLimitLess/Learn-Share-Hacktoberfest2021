{
  "nbformat": 4,
  "nbformat_minor": 0,
  "metadata": {
    "colab": {
      "name": "Untitled68.ipynb",
      "provenance": [],
      "collapsed_sections": []
    },
    "kernelspec": {
      "display_name": "Python 3",
      "name": "python3"
    },
    "language_info": {
      "name": "python"
    }
  },
  "cells": [
    {
      "cell_type": "markdown",
      "metadata": {
        "id": "pnCZbbuV0bgf"
      },
      "source": [
        "### **Write a complete Java program where three threads share an input file and an output file. Each thread reads a character from the input file and writes that character to the output file. The program should have no thread interference.**"
      ]
    },
    {
      "cell_type": "code",
      "metadata": {
        "id": "zqxVusQ_0NmM"
      },
      "source": [
        "//importing the libraries\n",
        "import java.io.*;\n",
        "import java.util.concurrent.ExecutorService;\n",
        "import java.util.concurrent.Executors;\n",
        "import java.util.concurrent.locks.Lock;\n",
        "import java.util.concurrent.locks.ReentrantLock;\n",
        "// class for FileHandler\n",
        "class FileHandler implements Runnable{\n",
        "    // local variables\n",
        "    private static BufferedReader in;\n",
        "    private static PrintWriter out;\n",
        "    private static Lock lock;\n",
        "    // expection handling\n",
        "    public FileHandler() throws FileNotFoundException {\n",
        "        if(in == null)\n",
        "            in = new BufferedReader(new InputStreamReader(new FileInputStream(\"input.txt\")));\n",
        "        if(out == null)\n",
        "            out = new PrintWriter(\"output.txt\");\n",
        "        if(lock == null)\n",
        "            lock = new ReentrantLock();\n",
        "    }\n",
        "\n",
        "    @Override\n",
        "    public void run() {\n",
        "        while (true){\n",
        "            try {\n",
        "                //if read from file returns false then stop the loop\n",
        "                if (!readFromFile()) {\n",
        "                    //when the file reaches end\n",
        "                    out.close();\n",
        "                    break;\n",
        "                }\n",
        "            } catch (IOException e) {\n",
        "                e.printStackTrace();\n",
        "            }\n",
        "        }\n",
        "    }\n",
        "\n",
        "    private static boolean readFromFile() throws IOException {\n",
        "        int characterInFile;\n",
        "        // reading character by character from the file\n",
        "        if((characterInFile = in.read()) != -1) {\n",
        "            FileHandler.lock.lock();\n",
        "            // writing the character to the output file\n",
        "            char ch = (char)characterInFile;\n",
        "            out.print(ch);\n",
        "            FileHandler.lock.unlock();\n",
        "            // returning true\n",
        "            return true;\n",
        "        }\n",
        "        //else returning false\n",
        "        return false;\n",
        "    }\n",
        "}\n",
        "// initializing the main class\n",
        "public class Main {\n",
        "    // initializing the main method\n",
        "    public static void main(String[] args) throws FileNotFoundException {\n",
        "        // creating the\n",
        "        ExecutorService createThreeTheads = Executors.newFixedThreadPool(1);\n",
        "        // running 3 threads\n",
        "        createThreeTheads.execute(new FileHandler());\n",
        "        createThreeTheads.execute(new FileHandler());\n",
        "        createThreeTheads.execute(new FileHandler());\n",
        "        //shutting down the service\n",
        "        System.out.println(\"File created and outputed successfully!! \");\n",
        "        createThreeTheads.shutdown();\n",
        "    }\n",
        "}"
      ],
      "execution_count": null,
      "outputs": []
    }
  ]
}