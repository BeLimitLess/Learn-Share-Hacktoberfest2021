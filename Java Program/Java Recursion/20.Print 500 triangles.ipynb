{
  "nbformat": 4,
  "nbformat_minor": 0,
  "metadata": {
    "colab": {
      "name": "Untitled68.ipynb",
      "provenance": [],
      "collapsed_sections": []
    },
    "kernelspec": {
      "display_name": "Python 3",
      "name": "python3"
    },
    "language_info": {
      "name": "python"
    }
  },
  "cells": [
    {
      "cell_type": "markdown",
      "metadata": {
        "id": "eXVF9y24c9X7"
      },
      "source": [
        "**I need program in java. Write a program that displays 500 colored triangles on the screen. You must choose the color of each triangle randomly by selecting random values for the amount of red, green, and blue. Then select three random points for the vertices of the triangle. Each vertex will require two random numbers: one random x-value and one random y-value. This means that each triangle requires nine random numbers. Finally, put all this stuff inside a loop that repeats 500 times. Please Do in Eclipse. Thanks in advance.**"
      ]
    },
    {
      "cell_type": "code",
      "metadata": {
        "id": "dD15MAAAc9L-"
      },
      "source": [
        "// imporiting the libraries\n",
        "import java.awt.Color;\n",
        "import java.awt.Dimension;\n",
        "import java.awt.Graphics;\n",
        "import java.awt.Polygon;\n",
        "import java.util.Random;\n",
        "import javax.swing.JFrame;\n",
        "// initializing the jframe\n",
        "public class DrawTrianglesApp extends JFrame {\n",
        "   private static final long serialVersionUID = 1L;\n",
        "   private Graphics g;\n",
        "   private Polygon poly;\n",
        "   int x1 = 0, x2 = 0, x3 = 0, y1 = 0, y2 = 0, y3 = 0;\n",
        "   Random randomGenerator = new Random();\n",
        "   // method to draw traiangle\n",
        "   public DrawTrianglesApp(){\n",
        "       System.out.println(\"Java\");\n",
        "       init(); \n",
        "       // set the size of freame\n",
        "       setSize(600, 600); \n",
        "       setVisible(true); \n",
        "   }\n",
        "   public void init() {\n",
        "       g = getGraphics();\n",
        "   } \n",
        "   // initializing the main method\n",
        "   public static void main(String[] args) {\n",
        "       new DrawTrianglesApp();\n",
        "   }\n",
        "   public void paint(Graphics g) {\n",
        "       for (int i = 0; i < 500; i++) {\n",
        "           // generating random color level in RGB\n",
        "           int red = randomGenerator.nextInt(256);\n",
        "           int green = randomGenerator.nextInt(256);\n",
        "           int blue = randomGenerator.nextInt(256);\n",
        "           Color randomColour = new Color(red, green, blue);\n",
        "           Dimension d = getSize();\n",
        "           // generating random points\n",
        "           x1 = (int) (Math.random() * d.width);\n",
        "           x2 = (int) (Math.random() * d.width);\n",
        "           x3 = (int) (Math.random() * d.width);\n",
        "           y1 = (int) (Math.random() * d.height);\n",
        "           y2 = (int) (Math.random() * d.height);\n",
        "           y3 = (int) (Math.random() * d.height);\n",
        "           // setting the color\n",
        "           g.setColor(randomColour);\n",
        "           int[] xList = { x1, x2, x3 };\n",
        "           int[] yList = { y1, y2, y3 };\n",
        "           // filling the Polygon\n",
        "           poly = new Polygon(xList, yList, 3);\n",
        "           g.fillPolygon(poly);\n",
        "       }\n",
        "   }\n",
        "}"
      ],
      "execution_count": null,
      "outputs": []
    },
    {
      "cell_type": "code",
      "metadata": {
        "id": "bD2i3Lztc8TW"
      },
      "source": [
        ""
      ],
      "execution_count": null,
      "outputs": []
    }
  ]
}