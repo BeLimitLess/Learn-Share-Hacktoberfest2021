{
  "nbformat": 4,
  "nbformat_minor": 0,
  "metadata": {
    "colab": {
      "name": "Untitled68.ipynb",
      "provenance": [],
      "collapsed_sections": []
    },
    "kernelspec": {
      "display_name": "Python 3",
      "name": "python3"
    },
    "language_info": {
      "name": "python"
    }
  },
  "cells": [
    {
      "cell_type": "markdown",
      "metadata": {
        "id": "G-8kU6ne6Csn"
      },
      "source": [
        "## **Checking if the list of number contains the square of the previous number**"
      ]
    },
    {
      "cell_type": "code",
      "metadata": {
        "id": "oprl10AYG_fC"
      },
      "source": [
        "// importing the required libraries\n",
        "import java.util.*;\n",
        "import java.lang.*;\n",
        "import java.io.*;\n",
        "// initializating the main class\n",
        "class Main{\n",
        "        // initializating the main method\n",
        "        public static boolean doubleORNothing(int[] array, int index){ \n",
        "                if( index == array.length - 1 ) \n",
        "                    return false;\n",
        "                // checking if next=2*current values\n",
        "                return (2*array[index] == array[index+1] || doubleORNothing(array,index+1)); \n",
        "        }\n",
        "\n",
        "        public static void main (String[] args) throws java.lang.Exception{\n",
        "                // use if you want an predefined array\n",
        "                // int array[] = {1,2};\n",
        "                int array[] = {9,8,7,6,12,4,3,2,1};\n",
        "                \n",
        "                \n",
        "                // Or use the below code to get the \n",
        "                // input from the user\n",
        "                \n",
        "                // initializating the scanner class\n",
        "                // Scanner sc = new Scanner(System.in);\n",
        "                // int size = 0;\n",
        "                // // getting the size of array from user\n",
        "                // size = sc.nextInt();\n",
        "                // int[] array = new int[size];  \n",
        "                // for(int i=0; i<size; i++){  \n",
        "                //     // getting array elements from the user   \n",
        "                //     array[i]=sc.nextInt();  \n",
        "                // } \n",
        "                // function calling\n",
        "                boolean ans = doubleORNothing(array, 0); \n",
        "                // displaying the result\n",
        "                System.out.println(ans);\n",
        "        }   \n",
        "}"
      ],
      "execution_count": null,
      "outputs": []
    }
  ]
}