{
  "nbformat": 4,
  "nbformat_minor": 0,
  "metadata": {
    "colab": {
      "name": "Untitled68.ipynb",
      "provenance": [],
      "collapsed_sections": []
    },
    "kernelspec": {
      "display_name": "Python 3",
      "name": "python3"
    },
    "language_info": {
      "name": "python"
    }
  },
  "cells": [
    {
      "cell_type": "markdown",
      "metadata": {
        "id": "jma0pdt6vI4I"
      },
      "source": [
        "***Set operations using priority queues***"
      ]
    },
    {
      "cell_type": "code",
      "metadata": {
        "id": "qPQQtCmdvCX4"
      },
      "source": [
        "// importing the libraties\n",
        "import java.util.*;\n",
        "// initializing the main class\n",
        "public class Main {\n",
        "// initializing the main method\n",
        "    public static void main(String[] args) {\n",
        "        // declaring the first PriorityQueue\n",
        "        PriorityQueue<String> PriorityQueue1 = new PriorityQueue<>(Arrays.asList(\"Tom\", \"Viola\", \"Marco\", \"Antonio\", \"Thomas\", \"Lui\"));\n",
        "        // declaring the first PriorityQueue\n",
        "        PriorityQueue<String> PriorityQueue2 = new PriorityQueue<>(Arrays.asList(\"Kay-Marie\", \"Mia\", \"Lucy\", \"Ansi\", \"Simon\"));\n",
        "        // displaying the queues to the user\n",
        "        System.out.println(\"PriorityQueue1: \" + PriorityQueue1);\n",
        "        System.out.println(\"PriorityQueue2: \" + PriorityQueue2);\n",
        "        // displaying the union of two queues\n",
        "        System.out.println(\"Union of queues: \" + union(PriorityQueue1, PriorityQueue2));\n",
        "         // displaying the differences of two queues\n",
        "        System.out.println(\"Difference of queues: \" + difference(PriorityQueue1, PriorityQueue2));\n",
        "        // displaying the intersection of the two queues\n",
        "        System.out.println(\"Intersection of sets: \" + intersection(PriorityQueue1, PriorityQueue2));\n",
        "}\n",
        "\n",
        "// function declaration for union of queues\n",
        "private static <T> PriorityQueue<T> union(\n",
        "    PriorityQueue<T> set1, PriorityQueue<T> set2) {\n",
        "        PriorityQueue<T> union = new PriorityQueue<>(set1);\n",
        "        union.addAll(set2);\n",
        "        return union;\n",
        "   }\n",
        "// function declaration for difference of queues\n",
        "private static <T> PriorityQueue<T> difference(\n",
        "    PriorityQueue<T> set1, PriorityQueue<T> set2) {\n",
        "        PriorityQueue<T> difference = new PriorityQueue<>(set1);\n",
        "        difference.removeAll(set2);\n",
        "        return difference;\n",
        "    }\n",
        "// function declaration for intersection of queues\n",
        "private static <T> PriorityQueue<T> intersection(\n",
        "    PriorityQueue<T> set1, PriorityQueue<T> set2) {\n",
        "        PriorityQueue<T> intersection = new PriorityQueue<>(set1);\n",
        "        intersection.retainAll(set2);\n",
        "        return intersection;\n",
        "    }\n",
        "\n",
        "}"
      ],
      "execution_count": null,
      "outputs": []
    }
  ]
}